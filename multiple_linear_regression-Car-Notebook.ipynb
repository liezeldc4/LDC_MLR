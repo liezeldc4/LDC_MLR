{
 "cells": [
  {
   "cell_type": "markdown",
   "metadata": {
    "colab_type": "text",
    "id": "CazISR8X_HUG"
   },
   "source": [
    "# Multiple Linear Regression- Car dataset"
   ]
  },
  {
   "cell_type": "markdown",
   "metadata": {
    "colab_type": "text",
    "id": "pOyqYHTk_Q57"
   },
   "source": [
    "## Importing the libraries"
   ]
  },
  {
   "cell_type": "code",
   "execution_count": 1,
   "metadata": {},
   "outputs": [],
   "source": [
    "import numpy as np\n",
    "import pandas as pd\n",
    "import matplotlib.pyplot as plt\n",
    "import seaborn as sns"
   ]
  },
  {
   "cell_type": "markdown",
   "metadata": {
    "colab_type": "text",
    "id": "vgC61-ah_WIz"
   },
   "source": [
    "## Importing the dataset"
   ]
  },
  {
   "cell_type": "code",
   "execution_count": 2,
   "metadata": {},
   "outputs": [],
   "source": [
    "dataset = pd.read_csv('CAR.csv')"
   ]
  },
  {
   "cell_type": "code",
   "execution_count": 3,
   "metadata": {},
   "outputs": [
    {
     "data": {
      "text/html": [
       "<div>\n",
       "<style scoped>\n",
       "    .dataframe tbody tr th:only-of-type {\n",
       "        vertical-align: middle;\n",
       "    }\n",
       "\n",
       "    .dataframe tbody tr th {\n",
       "        vertical-align: top;\n",
       "    }\n",
       "\n",
       "    .dataframe thead th {\n",
       "        text-align: right;\n",
       "    }\n",
       "</style>\n",
       "<table border=\"1\" class=\"dataframe\">\n",
       "  <thead>\n",
       "    <tr style=\"text-align: right;\">\n",
       "      <th></th>\n",
       "      <th>year</th>\n",
       "      <th>selling_price</th>\n",
       "      <th>km_driven</th>\n",
       "      <th>fuel</th>\n",
       "      <th>seller_type</th>\n",
       "      <th>transmission</th>\n",
       "      <th>owner</th>\n",
       "    </tr>\n",
       "  </thead>\n",
       "  <tbody>\n",
       "    <tr>\n",
       "      <th>0</th>\n",
       "      <td>2007</td>\n",
       "      <td>60000</td>\n",
       "      <td>70000</td>\n",
       "      <td>Petrol</td>\n",
       "      <td>Individual</td>\n",
       "      <td>Manual</td>\n",
       "      <td>First Owner</td>\n",
       "    </tr>\n",
       "    <tr>\n",
       "      <th>1</th>\n",
       "      <td>2007</td>\n",
       "      <td>135000</td>\n",
       "      <td>50000</td>\n",
       "      <td>Petrol</td>\n",
       "      <td>Individual</td>\n",
       "      <td>Manual</td>\n",
       "      <td>First Owner</td>\n",
       "    </tr>\n",
       "    <tr>\n",
       "      <th>2</th>\n",
       "      <td>2012</td>\n",
       "      <td>600000</td>\n",
       "      <td>100000</td>\n",
       "      <td>Diesel</td>\n",
       "      <td>Individual</td>\n",
       "      <td>Manual</td>\n",
       "      <td>First Owner</td>\n",
       "    </tr>\n",
       "    <tr>\n",
       "      <th>3</th>\n",
       "      <td>2017</td>\n",
       "      <td>250000</td>\n",
       "      <td>46000</td>\n",
       "      <td>Petrol</td>\n",
       "      <td>Individual</td>\n",
       "      <td>Manual</td>\n",
       "      <td>First Owner</td>\n",
       "    </tr>\n",
       "    <tr>\n",
       "      <th>4</th>\n",
       "      <td>2014</td>\n",
       "      <td>450000</td>\n",
       "      <td>141000</td>\n",
       "      <td>Diesel</td>\n",
       "      <td>Individual</td>\n",
       "      <td>Manual</td>\n",
       "      <td>Second Owner</td>\n",
       "    </tr>\n",
       "  </tbody>\n",
       "</table>\n",
       "</div>"
      ],
      "text/plain": [
       "   year  selling_price  km_driven    fuel seller_type transmission  \\\n",
       "0  2007          60000      70000  Petrol  Individual       Manual   \n",
       "1  2007         135000      50000  Petrol  Individual       Manual   \n",
       "2  2012         600000     100000  Diesel  Individual       Manual   \n",
       "3  2017         250000      46000  Petrol  Individual       Manual   \n",
       "4  2014         450000     141000  Diesel  Individual       Manual   \n",
       "\n",
       "          owner  \n",
       "0   First Owner  \n",
       "1   First Owner  \n",
       "2   First Owner  \n",
       "3   First Owner  \n",
       "4  Second Owner  "
      ]
     },
     "execution_count": 3,
     "metadata": {},
     "output_type": "execute_result"
    }
   ],
   "source": [
    "dataset.head()"
   ]
  },
  {
   "cell_type": "code",
   "execution_count": 4,
   "metadata": {},
   "outputs": [
    {
     "name": "stdout",
     "output_type": "stream",
     "text": [
      "<class 'pandas.core.frame.DataFrame'>\n",
      "RangeIndex: 4337 entries, 0 to 4336\n",
      "Data columns (total 7 columns):\n",
      " #   Column         Non-Null Count  Dtype \n",
      "---  ------         --------------  ----- \n",
      " 0   year           4337 non-null   int64 \n",
      " 1   selling_price  4337 non-null   int64 \n",
      " 2   km_driven      4337 non-null   int64 \n",
      " 3   fuel           4337 non-null   object\n",
      " 4   seller_type    4337 non-null   object\n",
      " 5   transmission   4337 non-null   object\n",
      " 6   owner          4337 non-null   object\n",
      "dtypes: int64(3), object(4)\n",
      "memory usage: 237.3+ KB\n"
     ]
    }
   ],
   "source": [
    "dataset.info()"
   ]
  },
  {
   "cell_type": "markdown",
   "metadata": {},
   "source": [
    "### Split the dataset into independent and Dependent variables"
   ]
  },
  {
   "cell_type": "code",
   "execution_count": 5,
   "metadata": {},
   "outputs": [],
   "source": [
    "# We want to predict selling_price\n",
    "X = dataset.drop('selling_price', axis = 1)\n",
    "y = dataset[['selling_price']]"
   ]
  },
  {
   "cell_type": "code",
   "execution_count": 6,
   "metadata": {},
   "outputs": [
    {
     "data": {
      "text/html": [
       "<div>\n",
       "<style scoped>\n",
       "    .dataframe tbody tr th:only-of-type {\n",
       "        vertical-align: middle;\n",
       "    }\n",
       "\n",
       "    .dataframe tbody tr th {\n",
       "        vertical-align: top;\n",
       "    }\n",
       "\n",
       "    .dataframe thead th {\n",
       "        text-align: right;\n",
       "    }\n",
       "</style>\n",
       "<table border=\"1\" class=\"dataframe\">\n",
       "  <thead>\n",
       "    <tr style=\"text-align: right;\">\n",
       "      <th></th>\n",
       "      <th>year</th>\n",
       "      <th>km_driven</th>\n",
       "      <th>fuel</th>\n",
       "      <th>seller_type</th>\n",
       "      <th>transmission</th>\n",
       "      <th>owner</th>\n",
       "    </tr>\n",
       "  </thead>\n",
       "  <tbody>\n",
       "    <tr>\n",
       "      <th>0</th>\n",
       "      <td>2007</td>\n",
       "      <td>70000</td>\n",
       "      <td>Petrol</td>\n",
       "      <td>Individual</td>\n",
       "      <td>Manual</td>\n",
       "      <td>First Owner</td>\n",
       "    </tr>\n",
       "    <tr>\n",
       "      <th>1</th>\n",
       "      <td>2007</td>\n",
       "      <td>50000</td>\n",
       "      <td>Petrol</td>\n",
       "      <td>Individual</td>\n",
       "      <td>Manual</td>\n",
       "      <td>First Owner</td>\n",
       "    </tr>\n",
       "    <tr>\n",
       "      <th>2</th>\n",
       "      <td>2012</td>\n",
       "      <td>100000</td>\n",
       "      <td>Diesel</td>\n",
       "      <td>Individual</td>\n",
       "      <td>Manual</td>\n",
       "      <td>First Owner</td>\n",
       "    </tr>\n",
       "    <tr>\n",
       "      <th>3</th>\n",
       "      <td>2017</td>\n",
       "      <td>46000</td>\n",
       "      <td>Petrol</td>\n",
       "      <td>Individual</td>\n",
       "      <td>Manual</td>\n",
       "      <td>First Owner</td>\n",
       "    </tr>\n",
       "    <tr>\n",
       "      <th>4</th>\n",
       "      <td>2014</td>\n",
       "      <td>141000</td>\n",
       "      <td>Diesel</td>\n",
       "      <td>Individual</td>\n",
       "      <td>Manual</td>\n",
       "      <td>Second Owner</td>\n",
       "    </tr>\n",
       "  </tbody>\n",
       "</table>\n",
       "</div>"
      ],
      "text/plain": [
       "   year  km_driven    fuel seller_type transmission         owner\n",
       "0  2007      70000  Petrol  Individual       Manual   First Owner\n",
       "1  2007      50000  Petrol  Individual       Manual   First Owner\n",
       "2  2012     100000  Diesel  Individual       Manual   First Owner\n",
       "3  2017      46000  Petrol  Individual       Manual   First Owner\n",
       "4  2014     141000  Diesel  Individual       Manual  Second Owner"
      ]
     },
     "execution_count": 6,
     "metadata": {},
     "output_type": "execute_result"
    }
   ],
   "source": [
    "X.head()"
   ]
  },
  {
   "cell_type": "code",
   "execution_count": 7,
   "metadata": {},
   "outputs": [
    {
     "data": {
      "text/html": [
       "<div>\n",
       "<style scoped>\n",
       "    .dataframe tbody tr th:only-of-type {\n",
       "        vertical-align: middle;\n",
       "    }\n",
       "\n",
       "    .dataframe tbody tr th {\n",
       "        vertical-align: top;\n",
       "    }\n",
       "\n",
       "    .dataframe thead th {\n",
       "        text-align: right;\n",
       "    }\n",
       "</style>\n",
       "<table border=\"1\" class=\"dataframe\">\n",
       "  <thead>\n",
       "    <tr style=\"text-align: right;\">\n",
       "      <th></th>\n",
       "      <th>selling_price</th>\n",
       "    </tr>\n",
       "  </thead>\n",
       "  <tbody>\n",
       "    <tr>\n",
       "      <th>0</th>\n",
       "      <td>60000</td>\n",
       "    </tr>\n",
       "    <tr>\n",
       "      <th>1</th>\n",
       "      <td>135000</td>\n",
       "    </tr>\n",
       "    <tr>\n",
       "      <th>2</th>\n",
       "      <td>600000</td>\n",
       "    </tr>\n",
       "    <tr>\n",
       "      <th>3</th>\n",
       "      <td>250000</td>\n",
       "    </tr>\n",
       "    <tr>\n",
       "      <th>4</th>\n",
       "      <td>450000</td>\n",
       "    </tr>\n",
       "  </tbody>\n",
       "</table>\n",
       "</div>"
      ],
      "text/plain": [
       "   selling_price\n",
       "0          60000\n",
       "1         135000\n",
       "2         600000\n",
       "3         250000\n",
       "4         450000"
      ]
     },
     "execution_count": 7,
     "metadata": {},
     "output_type": "execute_result"
    }
   ],
   "source": [
    "y.head()"
   ]
  },
  {
   "cell_type": "markdown",
   "metadata": {},
   "source": [
    "### Work with the catagorical data"
   ]
  },
  {
   "cell_type": "code",
   "execution_count": 8,
   "metadata": {},
   "outputs": [
    {
     "data": {
      "text/plain": [
       "Index(['year', 'km_driven', 'fuel', 'seller_type', 'transmission', 'owner'], dtype='object')"
      ]
     },
     "execution_count": 8,
     "metadata": {},
     "output_type": "execute_result"
    }
   ],
   "source": [
    "X.columns"
   ]
  },
  {
   "cell_type": "code",
   "execution_count": 9,
   "metadata": {},
   "outputs": [],
   "source": [
    "X = pd.get_dummies(dataset[['year', 'km_driven', 'fuel', 'seller_type', 'transmission', 'owner']],\n",
    "                  drop_first = True)"
   ]
  },
  {
   "cell_type": "code",
   "execution_count": 10,
   "metadata": {},
   "outputs": [
    {
     "data": {
      "text/html": [
       "<div>\n",
       "<style scoped>\n",
       "    .dataframe tbody tr th:only-of-type {\n",
       "        vertical-align: middle;\n",
       "    }\n",
       "\n",
       "    .dataframe tbody tr th {\n",
       "        vertical-align: top;\n",
       "    }\n",
       "\n",
       "    .dataframe thead th {\n",
       "        text-align: right;\n",
       "    }\n",
       "</style>\n",
       "<table border=\"1\" class=\"dataframe\">\n",
       "  <thead>\n",
       "    <tr style=\"text-align: right;\">\n",
       "      <th></th>\n",
       "      <th>year</th>\n",
       "      <th>km_driven</th>\n",
       "      <th>fuel_Diesel</th>\n",
       "      <th>fuel_Electric</th>\n",
       "      <th>fuel_LPG</th>\n",
       "      <th>fuel_Petrol</th>\n",
       "      <th>seller_type_Individual</th>\n",
       "      <th>seller_type_Trustmark Dealer</th>\n",
       "      <th>transmission_Manual</th>\n",
       "      <th>owner_Fourth &amp; Above Owner</th>\n",
       "      <th>owner_Second Owner</th>\n",
       "      <th>owner_Test Drive Car</th>\n",
       "      <th>owner_Third Owner</th>\n",
       "    </tr>\n",
       "  </thead>\n",
       "  <tbody>\n",
       "    <tr>\n",
       "      <th>0</th>\n",
       "      <td>2007</td>\n",
       "      <td>70000</td>\n",
       "      <td>0</td>\n",
       "      <td>0</td>\n",
       "      <td>0</td>\n",
       "      <td>1</td>\n",
       "      <td>1</td>\n",
       "      <td>0</td>\n",
       "      <td>1</td>\n",
       "      <td>0</td>\n",
       "      <td>0</td>\n",
       "      <td>0</td>\n",
       "      <td>0</td>\n",
       "    </tr>\n",
       "    <tr>\n",
       "      <th>1</th>\n",
       "      <td>2007</td>\n",
       "      <td>50000</td>\n",
       "      <td>0</td>\n",
       "      <td>0</td>\n",
       "      <td>0</td>\n",
       "      <td>1</td>\n",
       "      <td>1</td>\n",
       "      <td>0</td>\n",
       "      <td>1</td>\n",
       "      <td>0</td>\n",
       "      <td>0</td>\n",
       "      <td>0</td>\n",
       "      <td>0</td>\n",
       "    </tr>\n",
       "    <tr>\n",
       "      <th>2</th>\n",
       "      <td>2012</td>\n",
       "      <td>100000</td>\n",
       "      <td>1</td>\n",
       "      <td>0</td>\n",
       "      <td>0</td>\n",
       "      <td>0</td>\n",
       "      <td>1</td>\n",
       "      <td>0</td>\n",
       "      <td>1</td>\n",
       "      <td>0</td>\n",
       "      <td>0</td>\n",
       "      <td>0</td>\n",
       "      <td>0</td>\n",
       "    </tr>\n",
       "    <tr>\n",
       "      <th>3</th>\n",
       "      <td>2017</td>\n",
       "      <td>46000</td>\n",
       "      <td>0</td>\n",
       "      <td>0</td>\n",
       "      <td>0</td>\n",
       "      <td>1</td>\n",
       "      <td>1</td>\n",
       "      <td>0</td>\n",
       "      <td>1</td>\n",
       "      <td>0</td>\n",
       "      <td>0</td>\n",
       "      <td>0</td>\n",
       "      <td>0</td>\n",
       "    </tr>\n",
       "    <tr>\n",
       "      <th>4</th>\n",
       "      <td>2014</td>\n",
       "      <td>141000</td>\n",
       "      <td>1</td>\n",
       "      <td>0</td>\n",
       "      <td>0</td>\n",
       "      <td>0</td>\n",
       "      <td>1</td>\n",
       "      <td>0</td>\n",
       "      <td>1</td>\n",
       "      <td>0</td>\n",
       "      <td>1</td>\n",
       "      <td>0</td>\n",
       "      <td>0</td>\n",
       "    </tr>\n",
       "  </tbody>\n",
       "</table>\n",
       "</div>"
      ],
      "text/plain": [
       "   year  km_driven  fuel_Diesel  fuel_Electric  fuel_LPG  fuel_Petrol  \\\n",
       "0  2007      70000            0              0         0            1   \n",
       "1  2007      50000            0              0         0            1   \n",
       "2  2012     100000            1              0         0            0   \n",
       "3  2017      46000            0              0         0            1   \n",
       "4  2014     141000            1              0         0            0   \n",
       "\n",
       "   seller_type_Individual  seller_type_Trustmark Dealer  transmission_Manual  \\\n",
       "0                       1                             0                    1   \n",
       "1                       1                             0                    1   \n",
       "2                       1                             0                    1   \n",
       "3                       1                             0                    1   \n",
       "4                       1                             0                    1   \n",
       "\n",
       "   owner_Fourth & Above Owner  owner_Second Owner  owner_Test Drive Car  \\\n",
       "0                           0                   0                     0   \n",
       "1                           0                   0                     0   \n",
       "2                           0                   0                     0   \n",
       "3                           0                   0                     0   \n",
       "4                           0                   1                     0   \n",
       "\n",
       "   owner_Third Owner  \n",
       "0                  0  \n",
       "1                  0  \n",
       "2                  0  \n",
       "3                  0  \n",
       "4                  0  "
      ]
     },
     "execution_count": 10,
     "metadata": {},
     "output_type": "execute_result"
    }
   ],
   "source": [
    "X.head()"
   ]
  },
  {
   "cell_type": "markdown",
   "metadata": {
    "colab_type": "text",
    "id": "WemVnqgeA70k"
   },
   "source": [
    "## Splitting the dataset into the Training set and Test set\n",
    "- Random State 20"
   ]
  },
  {
   "cell_type": "code",
   "execution_count": 11,
   "metadata": {},
   "outputs": [],
   "source": [
    "from sklearn.model_selection import train_test_split\n",
    "X_train, X_test, y_train, y_test = train_test_split(X,y,test_size = 0.2, random_state = 20)"
   ]
  },
  {
   "cell_type": "markdown",
   "metadata": {
    "colab_type": "text",
    "id": "k-McZVsQBINc"
   },
   "source": [
    "## Training the Multiple Linear Regression model on the Training set"
   ]
  },
  {
   "cell_type": "code",
   "execution_count": 12,
   "metadata": {},
   "outputs": [
    {
     "name": "stderr",
     "output_type": "stream",
     "text": [
      "/Users/liezel/opt/anaconda3/lib/python3.9/site-packages/sklearn/linear_model/_logistic.py:763: ConvergenceWarning: lbfgs failed to converge (status=1):\n",
      "STOP: TOTAL NO. of ITERATIONS REACHED LIMIT.\n",
      "\n",
      "Increase the number of iterations (max_iter) or scale the data as shown in:\n",
      "    https://scikit-learn.org/stable/modules/preprocessing.html\n",
      "Please also refer to the documentation for alternative solver options:\n",
      "    https://scikit-learn.org/stable/modules/linear_model.html#logistic-regression\n",
      "  n_iter_i = _check_optimize_result(\n"
     ]
    },
    {
     "data": {
      "text/plain": [
       "LogisticRegression(max_iter=1000)"
      ]
     },
     "execution_count": 12,
     "metadata": {},
     "output_type": "execute_result"
    }
   ],
   "source": [
    "from sklearn.linear_model import LogisticRegression\n",
    "regressor = LogisticRegression(max_iter=1000)\n",
    "regressor.fit(X_train.values, y_train.values.ravel())"
   ]
  },
  {
   "cell_type": "markdown",
   "metadata": {},
   "source": [
    "## Intercept and Coefficient"
   ]
  },
  {
   "cell_type": "code",
   "execution_count": 13,
   "metadata": {},
   "outputs": [
    {
     "name": "stdout",
     "output_type": "stream",
     "text": [
      "Coefficients [[ 5.71221555e-05 -2.47076857e-05 -2.31476825e-07 ...  6.14224986e-07\n",
      "  -1.15580070e-08 -1.25193380e-08]\n",
      " [-3.58397606e-04  6.37659462e-06 -3.29611080e-07 ... -1.43485547e-07\n",
      "  -9.28116078e-09  6.83878305e-07]\n",
      " [-6.63532509e-04  2.00434233e-05 -4.15109879e-07 ... -1.91471324e-07\n",
      "  -7.97627744e-09  6.70398408e-07]\n",
      " ...\n",
      " [-9.21707870e-04  2.98267026e-05  2.13014853e-07 ... -2.38224254e-07\n",
      "  -7.07268768e-09 -5.24441617e-08]\n",
      " [ 7.88334625e-04 -1.01790666e-04  6.04894103e-07 ... -4.45526262e-08\n",
      "  -1.59142119e-08 -2.66053058e-09]\n",
      " [ 4.25238634e-04 -6.89851133e-05 -1.57737171e-07 ... -6.23889052e-08\n",
      "  -1.40320949e-08 -5.43213095e-09]]\n",
      "Intercept [ 3.20913148e-08 -1.72594629e-07 -3.25694763e-07 -4.82893009e-08\n",
      " -5.43281822e-07  2.37793697e-07 -4.02480320e-07 -6.06022968e-07\n",
      "  2.79709048e-07 -2.40595562e-07 -1.19883269e-08 -3.48235819e-07\n",
      "  4.49849121e-08  2.58616202e-07 -4.76265355e-07 -1.33325650e-07\n",
      "  2.07453754e-07  2.33441244e-07 -4.02783434e-07 -3.03517242e-08\n",
      " -5.55787987e-07 -6.27937753e-07  2.10423020e-07  6.92377616e-08\n",
      " -1.14486290e-07 -3.19244524e-07  1.93179701e-07 -7.20177853e-07\n",
      " -4.76678515e-07 -4.19226973e-07  3.22899553e-07 -4.99447859e-07\n",
      "  1.11430316e-07 -5.57908029e-08 -4.78421652e-07 -1.02531646e-06\n",
      " -1.44681723e-08  4.78903672e-07 -4.98932622e-07 -2.31943113e-08\n",
      " -2.74991031e-07 -4.30006252e-07  3.78596433e-07  5.64310226e-08\n",
      " -2.63923452e-07  2.87024160e-07 -7.20062400e-07  9.14800430e-08\n",
      " -4.82527549e-07  3.11327574e-07 -6.64759368e-07 -2.40994544e-07\n",
      "  1.81983272e-07 -6.00375213e-07  2.57406652e-07 -4.69308228e-07\n",
      " -5.44123697e-07  2.92113184e-08 -6.60701714e-07  2.09553853e-07\n",
      "  1.43147833e-07 -6.28595088e-07  2.78793075e-07  4.95783334e-07\n",
      " -1.45638111e-07  1.39780383e-07 -3.87855332e-07  2.00762006e-07\n",
      " -6.06671220e-07 -3.57549958e-08 -5.88015930e-08  1.46614495e-07\n",
      "  3.39255477e-08 -9.20292333e-08  2.24107163e-07 -6.29580834e-07\n",
      "  4.47302738e-08  9.52307949e-08 -1.95481793e-07  1.02353088e-07\n",
      " -2.71211222e-07  3.84528095e-07 -3.97150684e-07  4.40019922e-07\n",
      " -1.20807383e-07 -3.09736370e-07 -4.76988526e-07 -7.57906885e-09\n",
      " -1.95777957e-07 -2.71419984e-07  2.52709439e-07  5.99210934e-08\n",
      " -3.71413843e-07  2.98047922e-07  3.57635395e-07  9.08328233e-08\n",
      "  1.04450525e-08 -4.04199881e-07  3.68013469e-07  3.89681912e-07\n",
      "  3.15488935e-07 -3.50211535e-07 -1.57095018e-07  4.91881139e-07\n",
      " -4.21961488e-07 -6.36019224e-08 -4.03794847e-07  4.36502266e-07\n",
      "  2.65738009e-07 -2.50630012e-07  2.50143719e-07 -1.37895830e-07\n",
      "  2.02813610e-07 -3.47164859e-07  4.44821119e-07  2.70512050e-07\n",
      "  1.32934641e-07 -1.46130484e-07  2.09991489e-07 -4.03896082e-07\n",
      "  2.78385580e-07 -5.44334276e-07  2.63387566e-07 -1.75425365e-07\n",
      "  5.76659810e-07 -3.26801145e-07 -2.87485592e-07  2.68905751e-07\n",
      " -6.60012267e-07  1.50247835e-07  3.52556797e-07 -4.85441622e-07\n",
      " -3.57549958e-08  3.89912124e-07  1.00051902e-08  1.18368994e-08\n",
      "  2.21879016e-07 -5.36626235e-08 -4.99490382e-08 -1.16706655e-07\n",
      " -6.10433723e-07  4.56743725e-07 -7.48648825e-09 -7.20524050e-07\n",
      "  1.32529192e-07 -1.98953776e-08  2.87629213e-08 -5.44123697e-07\n",
      "  1.82221169e-07  9.11055565e-08  4.20323453e-07 -5.09287809e-07\n",
      "  4.19162507e-07 -1.23390782e-07  3.03510008e-07  2.45131806e-07\n",
      "  2.70940309e-07  2.71193157e-07  4.43409989e-07  2.77198685e-07\n",
      "  1.66229791e-07 -7.20177830e-07  3.75576002e-07 -9.24563035e-07\n",
      " -4.20286577e-08  2.65622513e-07  6.23340604e-07  6.64249266e-07\n",
      " -1.45441260e-07  2.72075324e-07 -4.72541016e-07  2.43038762e-08\n",
      " -2.75536011e-08 -5.44123667e-07  5.15489481e-07 -6.07535903e-07\n",
      " -9.81888731e-08 -4.77091870e-07 -3.98138630e-07  2.63745609e-07\n",
      " -7.96113815e-09 -1.56448785e-07  3.58127917e-07 -8.36209342e-07\n",
      "  9.21144969e-09  2.38361705e-07  3.59969068e-07  1.67155460e-07\n",
      "  6.04491410e-07 -3.27002580e-07  3.78188820e-07 -3.10524672e-07\n",
      "  4.94780677e-07 -5.44439628e-07  5.85301826e-07  3.78758070e-07\n",
      "  2.92679908e-07  2.33232556e-07  7.22638235e-07  2.69214783e-07\n",
      "  5.57448404e-07  6.63739324e-07 -6.29580873e-07  2.35668607e-07\n",
      " -4.33815714e-07 -1.13219668e-07  3.20455480e-07  3.10726440e-07\n",
      "  2.09550842e-07  1.72559259e-07 -4.77505492e-07 -1.95434655e-08\n",
      " -8.40526589e-08 -7.29847861e-07  3.01158250e-07  5.57798353e-07\n",
      "  1.13740705e-07  2.02983164e-07  5.78643969e-07  1.81515039e-08\n",
      "  5.35958409e-07  9.49010024e-08  4.35096267e-07  6.93782267e-07\n",
      " -7.21101289e-07  1.73436233e-07  6.21195723e-07 -1.50311027e-08\n",
      "  3.36518742e-07  3.09670646e-08  5.68849374e-07 -2.02727413e-07\n",
      " -1.90885931e-08 -4.28441937e-07  9.39386953e-07  7.00644294e-08\n",
      "  3.28786144e-07 -2.41713575e-07  2.67065659e-07 -4.04503838e-07\n",
      "  6.03484074e-08  4.85498675e-07 -4.77235977e-07 -3.27103287e-07\n",
      " -7.68594702e-08 -8.71819085e-08 -7.67552419e-08 -6.07535903e-07\n",
      "  4.51799016e-07  2.78147320e-07 -2.32971909e-07  2.78885524e-07\n",
      " -3.98298332e-07 -2.10584654e-07  3.37928119e-07  1.52972253e-07\n",
      " -2.54419974e-07  5.14753657e-07 -3.58779468e-07  3.37928102e-07\n",
      "  1.98055549e-07 -3.61960381e-07 -4.77195259e-07  2.20170204e-08\n",
      "  5.16828674e-07  4.60005539e-08  2.32354133e-07  4.22184355e-08\n",
      "  3.12765237e-07  1.01885200e-07  3.55936068e-07 -3.39457523e-07\n",
      " -5.65278172e-08  4.64436687e-07  4.05529335e-07  5.77843324e-07\n",
      " -4.17599997e-07 -2.41793440e-07  2.29546481e-07  5.77843324e-07\n",
      "  2.11313796e-07  2.03380938e-07  2.81090786e-07 -1.49687430e-08\n",
      "  5.78752715e-07  2.17986436e-07  4.57604067e-07 -8.95149183e-08\n",
      "  5.77843324e-07 -2.56260252e-08  9.08328751e-08 -5.44544942e-07\n",
      " -1.16346242e-07  5.48907660e-07 -3.10666196e-07  3.18232461e-07\n",
      " -5.80617543e-07  3.55942444e-07 -1.56385970e-07  2.82074027e-07\n",
      "  6.23985164e-07 -3.33483278e-07  6.70124964e-08  5.27763943e-07\n",
      " -1.47469408e-07  5.99258684e-08  1.33083261e-07 -8.41371791e-07\n",
      " -1.41039072e-07  5.00219267e-07  9.08328463e-08 -1.85635145e-07\n",
      " -1.66862294e-07 -8.37516317e-08  2.92195192e-07 -1.00548746e-07\n",
      " -8.92697888e-07  4.26941410e-07 -7.20524108e-07  4.41606598e-07\n",
      "  5.77843324e-07  5.84415829e-08  2.75578085e-07 -5.11225842e-07\n",
      "  2.10846494e-07 -1.46228994e-07  4.05598886e-07 -3.72194599e-08\n",
      "  1.39676792e-07 -4.04199885e-07 -4.04402462e-07  2.10761448e-07\n",
      " -3.26901839e-07  2.41389024e-07 -1.38399675e-07  1.61129494e-07\n",
      "  4.05807292e-07 -3.10138156e-07  3.94842807e-07 -5.52416663e-07\n",
      "  5.77843328e-07  5.77843328e-07  2.23875154e-07 -7.92572142e-08\n",
      "  3.08732329e-08  2.76194948e-07 -3.18474416e-07 -4.83892528e-07\n",
      "  7.19801701e-08  5.22039570e-07 -2.23811661e-07  8.22083600e-08\n",
      "  3.96459430e-07 -1.68668902e-07 -4.46725788e-07  2.78228131e-07\n",
      " -6.30898534e-08  2.84329372e-07 -2.08504777e-07 -7.68726924e-07\n",
      "  3.77587353e-07  2.36448861e-07 -2.41593501e-07 -4.60849451e-07\n",
      "  3.09670887e-08 -2.51448762e-07  2.03211896e-07  7.70699589e-08\n",
      "  1.31553486e-07  2.11036392e-07 -6.42720332e-07 -1.29935408e-08\n",
      "  7.88487642e-08 -6.09473317e-07 -3.34606460e-07 -5.54326637e-07\n",
      " -1.76692467e-07  5.01643269e-08 -1.36121946e-07 -8.52697218e-07\n",
      " -3.61397261e-08 -2.05200979e-07 -5.63658339e-08 -1.45539658e-07\n",
      " -1.00548681e-07  3.78043633e-07 -3.27002483e-07 -3.27002483e-07\n",
      "  5.24540171e-07  1.83612538e-07  3.83988917e-07 -1.62145138e-08\n",
      "  5.69289619e-07  1.81840893e-07 -7.00364986e-08  8.44173894e-07\n",
      "  6.80481514e-08 -3.52861190e-07 -6.06995329e-07 -6.29909267e-07\n",
      "  2.23141117e-07  5.35958442e-07  5.31243768e-07  4.71104027e-07\n",
      " -4.58305093e-07  3.90791158e-07  2.11016501e-07]\n"
     ]
    }
   ],
   "source": [
    "print(\"Coefficients\", regressor.coef_)\n",
    "print(\"Intercept\", regressor.intercept_)"
   ]
  },
  {
   "cell_type": "code",
   "execution_count": 14,
   "metadata": {},
   "outputs": [
    {
     "data": {
      "text/plain": [
       "Index(['year', 'km_driven', 'fuel_Diesel', 'fuel_Electric', 'fuel_LPG',\n",
       "       'fuel_Petrol', 'seller_type_Individual', 'seller_type_Trustmark Dealer',\n",
       "       'transmission_Manual', 'owner_Fourth & Above Owner',\n",
       "       'owner_Second Owner', 'owner_Test Drive Car', 'owner_Third Owner'],\n",
       "      dtype='object')"
      ]
     },
     "execution_count": 14,
     "metadata": {},
     "output_type": "execute_result"
    }
   ],
   "source": [
    "X_train.columns"
   ]
  },
  {
   "cell_type": "markdown",
   "metadata": {
    "colab_type": "text",
    "id": "xNkXL1YQBiBT"
   },
   "source": [
    "## Predicting the Test set results"
   ]
  },
  {
   "cell_type": "code",
   "execution_count": 16,
   "metadata": {},
   "outputs": [],
   "source": [
    "y_pred = regressor.predict(X_test.values)"
   ]
  },
  {
   "cell_type": "markdown",
   "metadata": {},
   "source": [
    "### Calculate RMSE, R-Square"
   ]
  },
  {
   "cell_type": "code",
   "execution_count": 17,
   "metadata": {},
   "outputs": [
    {
     "name": "stdout",
     "output_type": "stream",
     "text": [
      "r-square:  0.02\n",
      "MSE:  292091679060.32\n",
      "RMSE:  540455.07\n"
     ]
    }
   ],
   "source": [
    "from sklearn.metrics import mean_squared_error, r2_score\n",
    "import math\n",
    "print(f\"r-square: {r2_score(y_test, y_pred): 0.2f}\")\n",
    "print(f\"MSE: {mean_squared_error(y_test, y_pred): 0.2f}\")\n",
    "print(f\"RMSE: {math.sqrt(mean_squared_error(y_test, y_pred)): 0.2f}\")"
   ]
  },
  {
   "cell_type": "markdown",
   "metadata": {},
   "source": [
    "## Validation case scenario:\n",
    "#### 1. Predict how much will be the car selling price for a car of \n",
    "- year 2014 \n",
    "- 70000 km driven \n",
    "- fuel type Diesel\n",
    "- Seller type Dealer\n",
    "- manual transmission\n",
    "- first owner\n",
    "\n",
    "** 465000 ** actual\n"
   ]
  },
  {
   "cell_type": "code",
   "execution_count": 18,
   "metadata": {},
   "outputs": [
    {
     "data": {
      "text/html": [
       "<div>\n",
       "<style scoped>\n",
       "    .dataframe tbody tr th:only-of-type {\n",
       "        vertical-align: middle;\n",
       "    }\n",
       "\n",
       "    .dataframe tbody tr th {\n",
       "        vertical-align: top;\n",
       "    }\n",
       "\n",
       "    .dataframe thead th {\n",
       "        text-align: right;\n",
       "    }\n",
       "</style>\n",
       "<table border=\"1\" class=\"dataframe\">\n",
       "  <thead>\n",
       "    <tr style=\"text-align: right;\">\n",
       "      <th></th>\n",
       "      <th>year</th>\n",
       "      <th>km_driven</th>\n",
       "      <th>fuel_Diesel</th>\n",
       "      <th>fuel_Electric</th>\n",
       "      <th>fuel_LPG</th>\n",
       "      <th>fuel_Petrol</th>\n",
       "      <th>seller_type_Individual</th>\n",
       "      <th>seller_type_Trustmark Dealer</th>\n",
       "      <th>transmission_Manual</th>\n",
       "      <th>owner_Fourth &amp; Above Owner</th>\n",
       "      <th>owner_Second Owner</th>\n",
       "      <th>owner_Test Drive Car</th>\n",
       "      <th>owner_Third Owner</th>\n",
       "    </tr>\n",
       "  </thead>\n",
       "  <tbody>\n",
       "    <tr>\n",
       "      <th>406</th>\n",
       "      <td>2012</td>\n",
       "      <td>80000</td>\n",
       "      <td>1</td>\n",
       "      <td>0</td>\n",
       "      <td>0</td>\n",
       "      <td>0</td>\n",
       "      <td>1</td>\n",
       "      <td>0</td>\n",
       "      <td>1</td>\n",
       "      <td>0</td>\n",
       "      <td>0</td>\n",
       "      <td>0</td>\n",
       "      <td>1</td>\n",
       "    </tr>\n",
       "    <tr>\n",
       "      <th>3027</th>\n",
       "      <td>2013</td>\n",
       "      <td>100000</td>\n",
       "      <td>1</td>\n",
       "      <td>0</td>\n",
       "      <td>0</td>\n",
       "      <td>0</td>\n",
       "      <td>1</td>\n",
       "      <td>0</td>\n",
       "      <td>1</td>\n",
       "      <td>0</td>\n",
       "      <td>0</td>\n",
       "      <td>0</td>\n",
       "      <td>0</td>\n",
       "    </tr>\n",
       "    <tr>\n",
       "      <th>2277</th>\n",
       "      <td>2016</td>\n",
       "      <td>30000</td>\n",
       "      <td>0</td>\n",
       "      <td>0</td>\n",
       "      <td>0</td>\n",
       "      <td>1</td>\n",
       "      <td>1</td>\n",
       "      <td>0</td>\n",
       "      <td>1</td>\n",
       "      <td>0</td>\n",
       "      <td>0</td>\n",
       "      <td>0</td>\n",
       "      <td>0</td>\n",
       "    </tr>\n",
       "    <tr>\n",
       "      <th>799</th>\n",
       "      <td>2017</td>\n",
       "      <td>7658</td>\n",
       "      <td>0</td>\n",
       "      <td>0</td>\n",
       "      <td>0</td>\n",
       "      <td>1</td>\n",
       "      <td>0</td>\n",
       "      <td>0</td>\n",
       "      <td>0</td>\n",
       "      <td>0</td>\n",
       "      <td>0</td>\n",
       "      <td>0</td>\n",
       "      <td>0</td>\n",
       "    </tr>\n",
       "    <tr>\n",
       "      <th>2738</th>\n",
       "      <td>2012</td>\n",
       "      <td>110000</td>\n",
       "      <td>0</td>\n",
       "      <td>0</td>\n",
       "      <td>0</td>\n",
       "      <td>1</td>\n",
       "      <td>1</td>\n",
       "      <td>0</td>\n",
       "      <td>1</td>\n",
       "      <td>0</td>\n",
       "      <td>1</td>\n",
       "      <td>0</td>\n",
       "      <td>0</td>\n",
       "    </tr>\n",
       "  </tbody>\n",
       "</table>\n",
       "</div>"
      ],
      "text/plain": [
       "      year  km_driven  fuel_Diesel  fuel_Electric  fuel_LPG  fuel_Petrol  \\\n",
       "406   2012      80000            1              0         0            0   \n",
       "3027  2013     100000            1              0         0            0   \n",
       "2277  2016      30000            0              0         0            1   \n",
       "799   2017       7658            0              0         0            1   \n",
       "2738  2012     110000            0              0         0            1   \n",
       "\n",
       "      seller_type_Individual  seller_type_Trustmark Dealer  \\\n",
       "406                        1                             0   \n",
       "3027                       1                             0   \n",
       "2277                       1                             0   \n",
       "799                        0                             0   \n",
       "2738                       1                             0   \n",
       "\n",
       "      transmission_Manual  owner_Fourth & Above Owner  owner_Second Owner  \\\n",
       "406                     1                           0                   0   \n",
       "3027                    1                           0                   0   \n",
       "2277                    1                           0                   0   \n",
       "799                     0                           0                   0   \n",
       "2738                    1                           0                   1   \n",
       "\n",
       "      owner_Test Drive Car  owner_Third Owner  \n",
       "406                      0                  1  \n",
       "3027                     0                  0  \n",
       "2277                     0                  0  \n",
       "799                      0                  0  \n",
       "2738                     0                  0  "
      ]
     },
     "execution_count": 18,
     "metadata": {},
     "output_type": "execute_result"
    }
   ],
   "source": [
    "X_test.head()"
   ]
  },
  {
   "cell_type": "code",
   "execution_count": 23,
   "metadata": {},
   "outputs": [
    {
     "data": {
      "text/plain": [
       "array([300000])"
      ]
     },
     "execution_count": 23,
     "metadata": {},
     "output_type": "execute_result"
    }
   ],
   "source": [
    "regressor.predict([[2014,70000,1,0,0,0,0,1,1,0,0,1,0]])"
   ]
  }
 ],
 "metadata": {
  "colab": {
   "authorship_tag": "ABX9TyPhYhte6t7H4wEK4xPpDWT7",
   "name": "Multiple Linear Regression",
   "provenance": [],
   "toc_visible": true
  },
  "kernelspec": {
   "display_name": "Python 3 (ipykernel)",
   "language": "python",
   "name": "python3"
  },
  "language_info": {
   "codemirror_mode": {
    "name": "ipython",
    "version": 3
   },
   "file_extension": ".py",
   "mimetype": "text/x-python",
   "name": "python",
   "nbconvert_exporter": "python",
   "pygments_lexer": "ipython3",
   "version": "3.9.7"
  }
 },
 "nbformat": 4,
 "nbformat_minor": 1
}
